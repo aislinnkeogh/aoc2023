{
 "cells": [
  {
   "cell_type": "code",
   "execution_count": 194,
   "id": "c259790c-0abe-4056-a60a-873cff0ef6a3",
   "metadata": {},
   "outputs": [],
   "source": [
    "import re"
   ]
  },
  {
   "cell_type": "code",
   "execution_count": 200,
   "id": "464c4dd8-9e2e-4f9a-99c2-c67c3c2329b6",
   "metadata": {
    "scrolled": true
   },
   "outputs": [],
   "source": [
    "with open('../../input/day05.txt') as f:\n",
    "    maps = []\n",
    "    for line in (l.rstrip(\"\\n\") for l in f.readlines()):\n",
    "        if line.startswith(\"seeds: \"):\n",
    "            seeds = [int(x) for x in line.split(\"seeds: \")[1].split()]\n",
    "        elif re.match(r'\\D+', line):\n",
    "            maps.append([])\n",
    "        elif line:\n",
    "            dest, src, length = (int(x) for x in line.split())\n",
    "            maps[-1].append((dest, src, length))"
   ]
  },
  {
   "cell_type": "markdown",
   "id": "17f18ae2-2de1-4895-9e9b-dbce87c957b4",
   "metadata": {},
   "source": [
    "### Part one"
   ]
  },
  {
   "cell_type": "code",
   "execution_count": 184,
   "id": "f041d858-b37a-4bc5-9c00-cdb7dbb87b8b",
   "metadata": {},
   "outputs": [],
   "source": [
    "locations = []\n",
    "for seed in seeds: # take each seed number\n",
    "    for m in maps: # and run it through each mapping in turn\n",
    "        for dest, src, length in m: # by looking at each entry of the mapping\n",
    "            if seed >= src and seed < src + length: # and checking whether the number is in that entry\n",
    "                seed = dest + (seed - src) # and if it is, converting it to the number at the same position of the destination range\n",
    "                # seed = range(dest, dest+length+1)[range(src, src+length+1).index(seed)] \n",
    "                break # and then not checking any more entries\n",
    "        # otherwise, we don't need to do any conversion this time around and the number stays the same\n",
    "    locations.append(seed) # and then once we've been through all the mappings, we've got the final number and can add it to the locations list"
   ]
  },
  {
   "cell_type": "code",
   "execution_count": 126,
   "id": "62a46a48-300d-4e83-9299-12ffea94ed22",
   "metadata": {},
   "outputs": [],
   "source": [
    "part1 = min(locations)"
   ]
  },
  {
   "cell_type": "code",
   "execution_count": 127,
   "id": "e5cd67a5-1b68-482a-aa86-0c2a97d22e81",
   "metadata": {},
   "outputs": [
    {
     "data": {
      "text/plain": [
       "389056265"
      ]
     },
     "execution_count": 127,
     "metadata": {},
     "output_type": "execute_result"
    }
   ],
   "source": [
    "part1"
   ]
  },
  {
   "cell_type": "markdown",
   "id": "90792e14-1855-48cc-96f4-da2be2d40338",
   "metadata": {},
   "source": [
    "### Part two"
   ]
  },
  {
   "cell_type": "code",
   "execution_count": 145,
   "id": "0d5f704e-0147-4ef7-9fa5-d74b40ba6119",
   "metadata": {},
   "outputs": [],
   "source": [
    "seed_ranges = []\n",
    "for i in range(0, len(seeds), 2):\n",
    "    seed_ranges.append((seeds[i], seeds[i]+seeds[i+1]))"
   ]
  },
  {
   "cell_type": "code",
   "execution_count": 202,
   "id": "6a05c734-1c3c-4778-bd90-db89d823db14",
   "metadata": {},
   "outputs": [],
   "source": [
    "maps.reverse()\n",
    "for seed in range(part1):\n",
    "    loc = seed\n",
    "    for m in backwards_maps:\n",
    "        for src, dest, length in m: # swap around the source and destination now we're going backwards\n",
    "            if seed >= src and seed < src + length:\n",
    "                seed = dest + (seed - src)\n",
    "                break\n",
    "    if any([seed >= low and seed < high for low, high in seed_ranges]):\n",
    "        part2 = loc\n",
    "        break"
   ]
  },
  {
   "cell_type": "code",
   "execution_count": 203,
   "id": "b2f5d527-1108-4f70-9df7-aedb9d7d67bc",
   "metadata": {},
   "outputs": [
    {
     "data": {
      "text/plain": [
       "137516820"
      ]
     },
     "execution_count": 203,
     "metadata": {},
     "output_type": "execute_result"
    }
   ],
   "source": [
    "part2"
   ]
  },
  {
   "cell_type": "markdown",
   "id": "972d3faf-cc1d-4db8-b64c-e60e2d7b0069",
   "metadata": {},
   "source": [
    "### Export answers"
   ]
  },
  {
   "cell_type": "code",
   "execution_count": 205,
   "id": "2ec505ec-c06c-43fc-99d0-d941ffc7b617",
   "metadata": {},
   "outputs": [],
   "source": [
    "with open('../../answers/day05.txt', 'w') as f:\n",
    "    f.write(str(part1))\n",
    "    f.write(\"\\n\")\n",
    "    f.write(str(part2))"
   ]
  }
 ],
 "metadata": {
  "kernelspec": {
   "display_name": "Python 3 (ipykernel)",
   "language": "python",
   "name": "python3"
  },
  "language_info": {
   "codemirror_mode": {
    "name": "ipython",
    "version": 3
   },
   "file_extension": ".py",
   "mimetype": "text/x-python",
   "name": "python",
   "nbconvert_exporter": "python",
   "pygments_lexer": "ipython3",
   "version": "3.11.5"
  }
 },
 "nbformat": 4,
 "nbformat_minor": 5
}
