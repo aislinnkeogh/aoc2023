{
 "cells": [
  {
   "cell_type": "code",
   "execution_count": 136,
   "id": "b5fe2928",
   "metadata": {},
   "outputs": [],
   "source": [
    "import numpy as np"
   ]
  },
  {
   "cell_type": "code",
   "execution_count": 137,
   "id": "91efb590",
   "metadata": {},
   "outputs": [],
   "source": [
    "with open('../input/day2.txt') as f:\n",
    "    lines = [line.rstrip(\"\\n\") for line in f.readlines()]"
   ]
  },
  {
   "cell_type": "code",
   "execution_count": 138,
   "id": "0eb78f44",
   "metadata": {},
   "outputs": [],
   "source": [
    "games = [line.split(\": \")[1].split(\"; \") for line in lines]"
   ]
  },
  {
   "cell_type": "code",
   "execution_count": 139,
   "id": "0ce9fedc",
   "metadata": {},
   "outputs": [],
   "source": [
    "parsed_games = [[rnd.split(\", \") for rnd in game] for game in games]"
   ]
  },
  {
   "cell_type": "markdown",
   "id": "5e10102d",
   "metadata": {},
   "source": [
    "### Part one\n",
    "\n",
    "The Elf would first like to know which games would have been possible if the bag contained only 12 red cubes, 13 green cubes, and 14 blue cubes?\n",
    "\n",
    "In the example above, games 1, 2, and 5 would have been possible if the bag had been loaded with that configuration. However, game 3 would have been impossible because at one point the Elf showed you 20 red cubes at once; similarly, game 4 would also have been impossible because the Elf showed you 15 blue cubes at once. If you add up the IDs of the games that would have been possible, you get 8.\n",
    "\n",
    "Determine which games would have been possible if the bag had been loaded with only 12 red cubes, 13 green cubes, and 14 blue cubes. What is the sum of the IDs of those games?"
   ]
  },
  {
   "cell_type": "code",
   "execution_count": 140,
   "id": "c2f803f0",
   "metadata": {},
   "outputs": [],
   "source": [
    "all_games = {}\n",
    "for i in range(len(parsed_games)):\n",
    "    all_games[i+1] = []\n",
    "    for j in range(len(parsed_games[i])):\n",
    "        all_games[i+1].append({\"red\": 0, \"green\": 0, \"blue\": 0})\n",
    "        for clr in parsed_games[i][j]:\n",
    "            n, x = clr.split(\" \")\n",
    "            all_games[i+1][j][x] += int(n)"
   ]
  },
  {
   "cell_type": "code",
   "execution_count": 141,
   "id": "3c7a7e27",
   "metadata": {},
   "outputs": [],
   "source": [
    "highest_per_game = {}\n",
    "for i in range(len(all_games)):\n",
    "    highest_per_game[i+1] = {\"red\": 0, \"green\": 0, \"blue\": 0}\n",
    "    for rnd in all_games[i+1]:\n",
    "        for clr in [\"red\", \"green\", \"blue\"]:\n",
    "            if rnd[clr] > highest_per_game[i+1][clr]:\n",
    "                highest_per_game[i+1][clr] = rnd[clr]"
   ]
  },
  {
   "cell_type": "code",
   "execution_count": 142,
   "id": "bc4329b0",
   "metadata": {},
   "outputs": [],
   "source": [
    "part_one = 0\n",
    "for i in range(len(highest_per_game)):\n",
    "    if highest_per_game[i+1][\"red\"] <= 12 and highest_per_game[i+1][\"green\"] <= 13 and highest_per_game[i+1][\"blue\"] <= 14:\n",
    "        part_one += i+1"
   ]
  },
  {
   "cell_type": "code",
   "execution_count": 143,
   "id": "f44f61ad",
   "metadata": {},
   "outputs": [
    {
     "data": {
      "text/plain": [
       "2771"
      ]
     },
     "execution_count": 143,
     "metadata": {},
     "output_type": "execute_result"
    }
   ],
   "source": [
    "part_one"
   ]
  },
  {
   "cell_type": "markdown",
   "id": "67304937",
   "metadata": {},
   "source": [
    "### Part two \n",
    "\n",
    "As you continue your walk, the Elf poses a second question: in each game you played, what is the fewest number of cubes of each color that could have been in the bag to make the game possible?\n",
    "\n",
    "The power of a set of cubes is equal to the numbers of red, green, and blue cubes multiplied together. The power of the minimum set of cubes in game 1 is 48. In games 2-5 it was 12, 1560, 630, and 36, respectively. Adding up these five powers produces the sum 2286.\n",
    "\n",
    "For each game, find the minimum set of cubes that must have been present. What is the sum of the power of these sets?"
   ]
  },
  {
   "cell_type": "code",
   "execution_count": 144,
   "id": "d6017b5d",
   "metadata": {},
   "outputs": [],
   "source": [
    "part_two = np.sum([np.prod(list(highest_per_game[i+1].values())) for i in range(len(highest_per_game))])"
   ]
  },
  {
   "cell_type": "code",
   "execution_count": 145,
   "id": "9f352ac4",
   "metadata": {},
   "outputs": [
    {
     "data": {
      "text/plain": [
       "70924"
      ]
     },
     "execution_count": 145,
     "metadata": {},
     "output_type": "execute_result"
    }
   ],
   "source": [
    "part_two"
   ]
  }
 ],
 "metadata": {
  "kernelspec": {
   "display_name": "Python 3 (ipykernel)",
   "language": "python",
   "name": "python3"
  },
  "language_info": {
   "codemirror_mode": {
    "name": "ipython",
    "version": 3
   },
   "file_extension": ".py",
   "mimetype": "text/x-python",
   "name": "python",
   "nbconvert_exporter": "python",
   "pygments_lexer": "ipython3",
   "version": "3.9.13"
  }
 },
 "nbformat": 4,
 "nbformat_minor": 5
}
