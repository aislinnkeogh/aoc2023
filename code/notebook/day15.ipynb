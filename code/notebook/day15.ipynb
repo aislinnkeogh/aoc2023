{
 "cells": [
  {
   "cell_type": "code",
   "execution_count": 85,
   "id": "d80a61a9-98ea-4d21-9198-64ba6b341d15",
   "metadata": {},
   "outputs": [],
   "source": [
    "import numpy as np\n",
    "from collections import defaultdict"
   ]
  },
  {
   "cell_type": "code",
   "execution_count": 79,
   "id": "92af39c7-ed2f-4a82-be02-36b4d0c8e97e",
   "metadata": {},
   "outputs": [],
   "source": [
    "sample = False\n",
    "if sample:\n",
    "    fn = '../../input/samples/day15.txt'\n",
    "else:\n",
    "    fn = '../../input/day15.txt'\n",
    "with open(fn) as f:\n",
    "    sequence = f.readlines()[0].rstrip(\"\\n\").split(\",\")"
   ]
  },
  {
   "cell_type": "code",
   "execution_count": 55,
   "id": "7bd1203b-79ae-4037-9fd2-8c46f82897c3",
   "metadata": {},
   "outputs": [],
   "source": [
    "def HASH(step):\n",
    "    val = 0\n",
    "    for char in step:\n",
    "        val = ((val + ord(char)) * 17) % 256\n",
    "    return val"
   ]
  },
  {
   "cell_type": "markdown",
   "id": "0a1eb344-f6e1-4c74-a317-5a75465d7dc7",
   "metadata": {},
   "source": [
    "### Part one"
   ]
  },
  {
   "cell_type": "code",
   "execution_count": 56,
   "id": "b5670d15-693c-4333-b01f-d0904a605573",
   "metadata": {},
   "outputs": [],
   "source": [
    "part1 = sum([HASH(step) for step in sequence])"
   ]
  },
  {
   "cell_type": "code",
   "execution_count": 54,
   "id": "fa6d2d93-7dee-417b-9820-2702f00d2f56",
   "metadata": {},
   "outputs": [
    {
     "data": {
      "text/plain": [
       "1320"
      ]
     },
     "execution_count": 54,
     "metadata": {},
     "output_type": "execute_result"
    }
   ],
   "source": [
    "part1"
   ]
  },
  {
   "cell_type": "markdown",
   "id": "f1c68334-cc28-41a6-b4b5-4fd2a15ad69f",
   "metadata": {},
   "source": [
    "### Part two"
   ]
  },
  {
   "cell_type": "code",
   "execution_count": 80,
   "id": "1e887fa3-7086-49ee-b80c-bdbe77aed5f5",
   "metadata": {},
   "outputs": [],
   "source": [
    "lenses = [(step[:-2], int(step[-1])) if step[-2]==\"=\" else (step[:-1], 0) for step in sequence]"
   ]
  },
  {
   "cell_type": "code",
   "execution_count": 100,
   "id": "f93eb25d-0dee-43fa-8c05-6a9a2ed8b92d",
   "metadata": {},
   "outputs": [],
   "source": [
    "def default_val(): \n",
    "    return ([], [])"
   ]
  },
  {
   "cell_type": "code",
   "execution_count": 101,
   "id": "6b586b73-4b34-4edf-9e3c-4e7d4cee24a2",
   "metadata": {},
   "outputs": [],
   "source": [
    "boxes = defaultdict(default_val)\n",
    "for step in lenses:\n",
    "    labels, focal_lengths = boxes[HASH(step[0])]\n",
    "\n",
    "    if step[1] == 0:\n",
    "        # remove thing\n",
    "        try:\n",
    "            idx = labels.index(step[0])\n",
    "            labels.pop(idx)\n",
    "            focal_lengths.pop(idx)\n",
    "        except: # if can't find the label, do nothing\n",
    "            pass\n",
    "            \n",
    "    else:\n",
    "        # replace thing\n",
    "        try:\n",
    "            idx = labels.index(step[0])\n",
    "            focal_lengths[idx] = step[1]\n",
    "        except:\n",
    "            labels.append(step[0])\n",
    "            focal_lengths.append(step[1])"
   ]
  },
  {
   "cell_type": "code",
   "execution_count": 102,
   "id": "73d5cd62-69bd-44e4-9fbe-3c717f83847b",
   "metadata": {},
   "outputs": [],
   "source": [
    "part2 = 0\n",
    "for i in boxes.keys():\n",
    "    for j in range(len(boxes[i][1])):\n",
    "        part2 += np.prod([i+1, j+1, boxes[i][1][j]])"
   ]
  },
  {
   "cell_type": "code",
   "execution_count": 103,
   "id": "2662de68-fd98-4c47-8905-b1eba347cab3",
   "metadata": {},
   "outputs": [
    {
     "data": {
      "text/plain": [
       "269747"
      ]
     },
     "execution_count": 103,
     "metadata": {},
     "output_type": "execute_result"
    }
   ],
   "source": [
    "part2"
   ]
  },
  {
   "cell_type": "markdown",
   "id": "f74ac0dd-b48a-4183-89aa-956840a013ae",
   "metadata": {},
   "source": [
    "### Export answers"
   ]
  },
  {
   "cell_type": "code",
   "execution_count": 104,
   "id": "193bb418-061c-43e2-b043-9991b2cfaef8",
   "metadata": {},
   "outputs": [],
   "source": [
    "with open('../../answers/day15.txt', 'w') as f:\n",
    "    f.write(str(part1))\n",
    "    f.write(\"\\n\")\n",
    "    f.write(str(part2))"
   ]
  }
 ],
 "metadata": {
  "kernelspec": {
   "display_name": "Python 3 (ipykernel)",
   "language": "python",
   "name": "python3"
  },
  "language_info": {
   "codemirror_mode": {
    "name": "ipython",
    "version": 3
   },
   "file_extension": ".py",
   "mimetype": "text/x-python",
   "name": "python",
   "nbconvert_exporter": "python",
   "pygments_lexer": "ipython3",
   "version": "3.11.5"
  }
 },
 "nbformat": 4,
 "nbformat_minor": 5
}
