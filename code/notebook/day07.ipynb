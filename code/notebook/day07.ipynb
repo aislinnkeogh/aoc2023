{
 "cells": [
  {
   "cell_type": "code",
   "execution_count": 579,
   "id": "d5ba0c8e-73dc-49f2-86ed-1f8f139b132a",
   "metadata": {},
   "outputs": [],
   "source": [
    "from collections import Counter"
   ]
  },
  {
   "cell_type": "code",
   "execution_count": 581,
   "id": "697a1d3a-8a21-4d4d-8bb1-74cceaa792cd",
   "metadata": {},
   "outputs": [],
   "source": [
    "def card_to_num(card):\n",
    "    if card.isnumeric():\n",
    "        return int(card)\n",
    "    else:\n",
    "        return {'T': 10, 'J': 11, 'Q': 12, 'K': 13, 'A': 14}[card]"
   ]
  },
  {
   "cell_type": "code",
   "execution_count": 582,
   "id": "40d50939-8b59-49bb-8c41-a7bcdaa765db",
   "metadata": {},
   "outputs": [],
   "source": [
    "with open('../../input/day07.txt') as f:\n",
    "    hands_and_bids = []\n",
    "    hands = []\n",
    "    bids = []\n",
    "    for line in (l.rstrip(\"\\n\") for l in f.readlines()):\n",
    "        hand, bid = line.split()\n",
    "        hands.append(tuple(card_to_num(card) for card in hand))\n",
    "        bids.append(int(bid))\n",
    "        hands_and_bids.append((tuple(card_to_num(card) for card in hand), int(bid)))"
   ]
  },
  {
   "cell_type": "markdown",
   "id": "b8120c6d-6c41-422d-ae7b-3198edfa7368",
   "metadata": {},
   "source": [
    "### Part one"
   ]
  },
  {
   "cell_type": "code",
   "execution_count": 590,
   "id": "292ee582-49f1-4fe1-bcd4-522a0bdb51e8",
   "metadata": {},
   "outputs": [],
   "source": [
    "def strength(hand):\n",
    "    return sorted(Counter(hand).values(), reverse=True)"
   ]
  },
  {
   "cell_type": "code",
   "execution_count": 591,
   "id": "2ca93d29-1c6f-40ad-aa9b-a6f96d9f11b8",
   "metadata": {},
   "outputs": [],
   "source": [
    "# sort first by the strength of the hand type, then by the values in the hand itself if the first sort results in ties\n",
    "hands_and_bids.sort(key = lambda e: (strength(e[0]), e[0]))"
   ]
  },
  {
   "cell_type": "code",
   "execution_count": 592,
   "id": "f2973793-f2cc-49e7-965d-d2e379f24e14",
   "metadata": {},
   "outputs": [],
   "source": [
    "part1 = sum(bid*(i+1) for i, (hand, bid) in enumerate(hands_and_bids))"
   ]
  },
  {
   "cell_type": "code",
   "execution_count": 593,
   "id": "e794950b-d300-4580-8036-34f8fb1bcaf1",
   "metadata": {},
   "outputs": [
    {
     "data": {
      "text/plain": [
       "247961593"
      ]
     },
     "execution_count": 593,
     "metadata": {},
     "output_type": "execute_result"
    }
   ],
   "source": [
    "part1"
   ]
  },
  {
   "cell_type": "markdown",
   "id": "9ac58f00-374d-4ec8-abe6-8e826e7e8e06",
   "metadata": {},
   "source": [
    "### Part two"
   ]
  },
  {
   "cell_type": "code",
   "execution_count": 598,
   "id": "02e3ee29-533d-4984-8689-52e686955742",
   "metadata": {},
   "outputs": [],
   "source": [
    "def replace_jokers(hand):\n",
    "    hand_minus_jokers = tuple(card for card in hand if card!=11)\n",
    "    if hand_minus_jokers: # if there's anything left after removing jokers, find the most common card and replace jokers with that\n",
    "        best_hand = tuple(card if card!=11 else Counter(hand_minus_jokers).most_common(1)[0][0] for card in hand)\n",
    "    else: # if all cards were jokers, it's already a five of a kind, so don't change it\n",
    "        best_hand = hand\n",
    "    individual_scores = tuple(card if card!=11 else 1 for card in hand)\n",
    "    return strength(best_hand), individual_scores"
   ]
  },
  {
   "cell_type": "code",
   "execution_count": 599,
   "id": "cf1ff372-11c4-4118-8c66-82249be8152b",
   "metadata": {},
   "outputs": [],
   "source": [
    "hands_and_bids.sort(key=lambda e: replace_jokers(e[0]))"
   ]
  },
  {
   "cell_type": "code",
   "execution_count": 600,
   "id": "46629a31-d990-4d2d-a8fc-7cab99d59d8b",
   "metadata": {},
   "outputs": [],
   "source": [
    "part2 = sum(bid*(i+1) for i, (hand, bid) in enumerate(hands_and_bids))"
   ]
  },
  {
   "cell_type": "code",
   "execution_count": 601,
   "id": "94448a44-31a9-47ae-ac4e-68be75ba090c",
   "metadata": {},
   "outputs": [
    {
     "data": {
      "text/plain": [
       "248750699"
      ]
     },
     "execution_count": 601,
     "metadata": {},
     "output_type": "execute_result"
    }
   ],
   "source": [
    "part2"
   ]
  }
 ],
 "metadata": {
  "kernelspec": {
   "display_name": "Python 3 (ipykernel)",
   "language": "python",
   "name": "python3"
  },
  "language_info": {
   "codemirror_mode": {
    "name": "ipython",
    "version": 3
   },
   "file_extension": ".py",
   "mimetype": "text/x-python",
   "name": "python",
   "nbconvert_exporter": "python",
   "pygments_lexer": "ipython3",
   "version": "3.11.5"
  }
 },
 "nbformat": 4,
 "nbformat_minor": 5
}
