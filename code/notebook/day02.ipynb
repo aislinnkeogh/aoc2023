{
 "cells": [
  {
   "cell_type": "code",
   "execution_count": 20,
   "id": "b5fe2928",
   "metadata": {},
   "outputs": [],
   "source": [
    "from functools import reduce"
   ]
  },
  {
   "cell_type": "code",
   "execution_count": 7,
   "id": "91efb590",
   "metadata": {},
   "outputs": [],
   "source": [
    "with open('../../input/day02.txt') as f:\n",
    "    games = [[rnd.split(\", \") for rnd in game] for game in [line.rstrip(\"\\n\").split(\": \")[1].split(\"; \") for line in f.readlines()]]"
   ]
  },
  {
   "cell_type": "markdown",
   "id": "5e10102d",
   "metadata": {},
   "source": [
    "### Part one"
   ]
  },
  {
   "cell_type": "code",
   "execution_count": 14,
   "id": "53328fd7-ceda-4e2e-a4fa-09795d3c1195",
   "metadata": {},
   "outputs": [],
   "source": [
    "highest_per_game = {i: {\"red\": 0, \"green\": 0, \"blue\": 0} for i in range(len(games))}\n",
    "for i, game in enumerate(games):\n",
    "    for rnd in game:\n",
    "        for clr in rnd:\n",
    "            n, x = clr.split(\" \")\n",
    "            if int(n) > highest_per_game[i][x]:\n",
    "                highest_per_game[i][x] = int(n)"
   ]
  },
  {
   "cell_type": "code",
   "execution_count": 17,
   "id": "118d5bf2-f3ca-4574-a8dd-9d384e312479",
   "metadata": {},
   "outputs": [],
   "source": [
    "part1 = 0\n",
    "for i, v in highest_per_game.items():\n",
    "    if v[\"red\"] <= 12 and v[\"green\"] <= 13 and v[\"blue\"] <= 14:\n",
    "        part1 += i+1"
   ]
  },
  {
   "cell_type": "code",
   "execution_count": 18,
   "id": "f44f61ad",
   "metadata": {},
   "outputs": [
    {
     "data": {
      "text/plain": [
       "2771"
      ]
     },
     "execution_count": 18,
     "metadata": {},
     "output_type": "execute_result"
    }
   ],
   "source": [
    "part1"
   ]
  },
  {
   "cell_type": "markdown",
   "id": "67304937",
   "metadata": {},
   "source": [
    "### Part two "
   ]
  },
  {
   "cell_type": "code",
   "execution_count": 21,
   "id": "ec332f65-171d-4298-b7eb-77051afa675f",
   "metadata": {},
   "outputs": [],
   "source": [
    "part2 = 0\n",
    "for v in highest_per_game.values():\n",
    "    part2 += reduce((lambda x, y: x * y), v.values())"
   ]
  },
  {
   "cell_type": "code",
   "execution_count": 22,
   "id": "9f352ac4",
   "metadata": {},
   "outputs": [
    {
     "data": {
      "text/plain": [
       "70924"
      ]
     },
     "execution_count": 22,
     "metadata": {},
     "output_type": "execute_result"
    }
   ],
   "source": [
    "part2"
   ]
  },
  {
   "cell_type": "markdown",
   "id": "093d731b-0174-45cb-8603-238d92cbe26f",
   "metadata": {},
   "source": [
    "### Export answers"
   ]
  },
  {
   "cell_type": "code",
   "execution_count": null,
   "id": "c37dd56f-2b11-49af-876a-5dcfb95aa1c2",
   "metadata": {},
   "outputs": [],
   "source": [
    "with open('../../answers/day02.txt', 'w') as f:\n",
    "    f.write(str(part1))\n",
    "    f.write(\"\\n\")\n",
    "    f.write(str(part2))"
   ]
  }
 ],
 "metadata": {
  "kernelspec": {
   "display_name": "Python 3 (ipykernel)",
   "language": "python",
   "name": "python3"
  },
  "language_info": {
   "codemirror_mode": {
    "name": "ipython",
    "version": 3
   },
   "file_extension": ".py",
   "mimetype": "text/x-python",
   "name": "python",
   "nbconvert_exporter": "python",
   "pygments_lexer": "ipython3",
   "version": "3.11.5"
  }
 },
 "nbformat": 4,
 "nbformat_minor": 5
}
