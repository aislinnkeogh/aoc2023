{
 "cells": [
  {
   "cell_type": "code",
   "execution_count": 180,
   "id": "3eab9717-4365-46d6-aaf7-912bcbbe61b2",
   "metadata": {
    "scrolled": true
   },
   "outputs": [],
   "source": [
    "with open('../../input/day04.txt') as f:\n",
    "    cards = []\n",
    "    for i, line in enumerate(l.rstrip(\"\\n\") for l in f.readlines()):\n",
    "        winning, have = line.split(\": \")[1].split(\" | \")\n",
    "        cards.append((winning.split(), have.split()))"
   ]
  },
  {
   "cell_type": "markdown",
   "id": "29bf2e96-84a8-4526-85d7-ad3f6d442c95",
   "metadata": {},
   "source": [
    "### Part one"
   ]
  },
  {
   "cell_type": "code",
   "execution_count": 181,
   "id": "33e0ef8a-fcb8-4ea0-84ff-a01445594e8f",
   "metadata": {},
   "outputs": [],
   "source": [
    "matches = [len(set(cards[i][0]).intersection(set(cards[i][1]))) for i in range(len(cards))]"
   ]
  },
  {
   "cell_type": "code",
   "execution_count": 182,
   "id": "b0433190-abbe-43c0-8316-a65f04642c5c",
   "metadata": {},
   "outputs": [],
   "source": [
    "part1 = sum([2**(m-1) for m in matches if m>0])"
   ]
  },
  {
   "cell_type": "code",
   "execution_count": 183,
   "id": "020c897b-d76d-4f79-ac0b-01c32b6380b1",
   "metadata": {},
   "outputs": [
    {
     "data": {
      "text/plain": [
       "32609"
      ]
     },
     "execution_count": 183,
     "metadata": {},
     "output_type": "execute_result"
    }
   ],
   "source": [
    "part1"
   ]
  },
  {
   "cell_type": "markdown",
   "id": "581bcf8e-488c-4a9a-b8b0-60123fc05d83",
   "metadata": {},
   "source": [
    "### Part two"
   ]
  },
  {
   "cell_type": "code",
   "execution_count": 184,
   "id": "66d60d52-d266-4300-a35b-676c9bf913b8",
   "metadata": {},
   "outputs": [],
   "source": [
    "# initialise with one copy of every card (the originals)\n",
    "copies = {i+1: 1 for i in range(len(cards))}"
   ]
  },
  {
   "cell_type": "code",
   "execution_count": 185,
   "id": "5fb394ad-3d3f-4322-9636-bb94ed762f69",
   "metadata": {},
   "outputs": [],
   "source": [
    "for i in range(len(cards)):\n",
    "    for j in range(matches[i]):\n",
    "        copies[i+j+2] += copies[i+1]"
   ]
  },
  {
   "cell_type": "code",
   "execution_count": 186,
   "id": "3f151e0b-0ee2-492d-b337-2ea03357d4c4",
   "metadata": {},
   "outputs": [],
   "source": [
    "part2 = sum(copies.values())"
   ]
  },
  {
   "cell_type": "code",
   "execution_count": 187,
   "id": "9436ccbc-5fb0-405f-b57d-e76935f8b83d",
   "metadata": {},
   "outputs": [
    {
     "data": {
      "text/plain": [
       "14624680"
      ]
     },
     "execution_count": 187,
     "metadata": {},
     "output_type": "execute_result"
    }
   ],
   "source": [
    "part2"
   ]
  },
  {
   "cell_type": "markdown",
   "id": "eb706c34-f12b-4999-b8e2-fac5cd3137f7",
   "metadata": {},
   "source": [
    "### Export answers"
   ]
  },
  {
   "cell_type": "code",
   "execution_count": null,
   "id": "c56ff5d7-d19e-4d62-bd94-c8465add75d3",
   "metadata": {},
   "outputs": [],
   "source": [
    "with open('../../answers/day04.txt', 'w') as f:\n",
    "    f.write(str(part1))\n",
    "    f.write(\"\\n\")\n",
    "    f.write(str(part2))"
   ]
  }
 ],
 "metadata": {
  "kernelspec": {
   "display_name": "Python 3 (ipykernel)",
   "language": "python",
   "name": "python3"
  },
  "language_info": {
   "codemirror_mode": {
    "name": "ipython",
    "version": 3
   },
   "file_extension": ".py",
   "mimetype": "text/x-python",
   "name": "python",
   "nbconvert_exporter": "python",
   "pygments_lexer": "ipython3",
   "version": "3.11.5"
  }
 },
 "nbformat": 4,
 "nbformat_minor": 5
}
