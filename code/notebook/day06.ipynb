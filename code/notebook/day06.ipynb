{
 "cells": [
  {
   "cell_type": "code",
   "execution_count": 9,
   "id": "9d15c130-02aa-4fdd-a0cd-fc9533da42ec",
   "metadata": {},
   "outputs": [],
   "source": [
    "import numpy as np"
   ]
  },
  {
   "cell_type": "code",
   "execution_count": 2,
   "id": "6e624c27-ea8b-4497-981b-871bda38f30c",
   "metadata": {},
   "outputs": [],
   "source": [
    "with open('../../input/day06.txt') as f:\n",
    "    for line in (l.rstrip(\"\\n\") for l in f.readlines()):\n",
    "        if line.startswith(\"Time\"):\n",
    "            times = [int(x) for x in line.split(\":\")[1].split()]\n",
    "        else:\n",
    "            dists = [int(x) for x in line.split(\":\")[1].split()]"
   ]
  },
  {
   "cell_type": "markdown",
   "id": "db3f9e5d-4e1a-4759-abd9-990094adb5e9",
   "metadata": {},
   "source": [
    "### Part one"
   ]
  },
  {
   "cell_type": "code",
   "execution_count": 30,
   "id": "92bca3fc-399c-417e-acff-bad1ef463599",
   "metadata": {},
   "outputs": [],
   "source": [
    "ways_to_win = []\n",
    "for i, time in enumerate(times):\n",
    "    for j in range(time):\n",
    "        dist = (time-j) * j\n",
    "        if dist > dists[i]:\n",
    "            ways_to_win.append(len(range(j, time-j+1)))\n",
    "            break"
   ]
  },
  {
   "cell_type": "code",
   "execution_count": 14,
   "id": "640b7886-bdd0-4755-a634-539a6424abb5",
   "metadata": {},
   "outputs": [],
   "source": [
    "part1 = np.prod(ways_to_win)"
   ]
  },
  {
   "cell_type": "code",
   "execution_count": 15,
   "id": "42f80d86-3683-4f8d-b050-753086ead03b",
   "metadata": {},
   "outputs": [
    {
     "data": {
      "text/plain": [
       "2065338"
      ]
     },
     "execution_count": 15,
     "metadata": {},
     "output_type": "execute_result"
    }
   ],
   "source": [
    "part1"
   ]
  },
  {
   "cell_type": "markdown",
   "id": "5d3fe6ab-dc1d-4f68-8b2d-d2916cdf5fca",
   "metadata": {},
   "source": [
    "### Part two"
   ]
  },
  {
   "cell_type": "code",
   "execution_count": 26,
   "id": "785bc232-db8b-47bf-b40d-ff46150927a4",
   "metadata": {},
   "outputs": [],
   "source": [
    "time = int(\"\".join((str(t) for t in times)))\n",
    "dist = int(\"\".join((str(d) for d in dists)))\n",
    "for i in range(time):\n",
    "    d = (time-i) * i\n",
    "    if d > dist:\n",
    "        part2 = len(range(i, time-i+1))\n",
    "        break"
   ]
  },
  {
   "cell_type": "code",
   "execution_count": 27,
   "id": "8bdff7a8-d6bf-4a88-956e-0e6673258744",
   "metadata": {},
   "outputs": [
    {
     "data": {
      "text/plain": [
       "34934171"
      ]
     },
     "execution_count": 27,
     "metadata": {},
     "output_type": "execute_result"
    }
   ],
   "source": [
    "part2"
   ]
  },
  {
   "cell_type": "markdown",
   "id": "894cf264-fdac-4371-a5f4-549bc50e03db",
   "metadata": {},
   "source": [
    "### Export answers"
   ]
  },
  {
   "cell_type": "code",
   "execution_count": 29,
   "id": "790c2f56-3022-4582-99ba-93714f388848",
   "metadata": {},
   "outputs": [],
   "source": [
    "with open('../../answers/day06.txt', 'w') as f:\n",
    "    f.write(str(part1))\n",
    "    f.write(\"\\n\")\n",
    "    f.write(str(part2))"
   ]
  }
 ],
 "metadata": {
  "kernelspec": {
   "display_name": "Python 3 (ipykernel)",
   "language": "python",
   "name": "python3"
  },
  "language_info": {
   "codemirror_mode": {
    "name": "ipython",
    "version": 3
   },
   "file_extension": ".py",
   "mimetype": "text/x-python",
   "name": "python",
   "nbconvert_exporter": "python",
   "pygments_lexer": "ipython3",
   "version": "3.11.5"
  }
 },
 "nbformat": 4,
 "nbformat_minor": 5
}
