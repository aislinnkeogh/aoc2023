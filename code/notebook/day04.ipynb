{
 "cells": [
  {
   "cell_type": "code",
   "execution_count": 1,
   "id": "3eab9717-4365-46d6-aaf7-912bcbbe61b2",
   "metadata": {},
   "outputs": [],
   "source": [
    "with open('../../input/day04.txt') as f:\n",
    "    lines = [line.rstrip(\"\\n\") for line in f.readlines()]"
   ]
  },
  {
   "cell_type": "code",
   "execution_count": 2,
   "id": "a1df8ead-b4f2-4005-bd2e-ba3884865df3",
   "metadata": {},
   "outputs": [],
   "source": [
    "cards = {i+1: {\"winning\": lines[i].split(\": \")[1].split(\" | \")[0].split(), \"have\": lines[i].split(\": \")[1].split(\" | \")[1].split()} for i in range(len(lines))}"
   ]
  },
  {
   "cell_type": "markdown",
   "id": "29bf2e96-84a8-4526-85d7-ad3f6d442c95",
   "metadata": {},
   "source": [
    "### Part one\n",
    "\n",
    "Each card has two lists of numbers separated by a vertical bar (|): a list of winning numbers and then a list of numbers you have.\n",
    "\n",
    "You have to figure out which of the numbers you have appear in the list of winning numbers. The first match makes the card worth one point and each match after the first doubles the point value of that card.\n",
    "\n",
    "Take a seat in the large pile of colorful cards. How many points are they worth in total?\n"
   ]
  },
  {
   "cell_type": "code",
   "execution_count": 3,
   "id": "3e5af9c4-a2e7-40e1-a39f-351300147390",
   "metadata": {},
   "outputs": [],
   "source": [
    "matches = [len(set(cards[i+1][\"winning\"]).intersection(set(cards[i+1][\"have\"]))) for i in range(len(cards))]"
   ]
  },
  {
   "cell_type": "code",
   "execution_count": 4,
   "id": "b0433190-abbe-43c0-8316-a65f04642c5c",
   "metadata": {},
   "outputs": [],
   "source": [
    "part1 = sum([2**(m-1) for m in matches if m>0])"
   ]
  },
  {
   "cell_type": "code",
   "execution_count": 5,
   "id": "020c897b-d76d-4f79-ac0b-01c32b6380b1",
   "metadata": {},
   "outputs": [
    {
     "data": {
      "text/plain": [
       "32609"
      ]
     },
     "execution_count": 5,
     "metadata": {},
     "output_type": "execute_result"
    }
   ],
   "source": [
    "part1"
   ]
  },
  {
   "cell_type": "markdown",
   "id": "581bcf8e-488c-4a9a-b8b0-60123fc05d83",
   "metadata": {},
   "source": [
    "### Part two\n",
    "\n",
    "There's no such thing as \"points\". Instead, scratchcards only cause you to win more scratchcards equal to the number of winning numbers you have.\n",
    "\n",
    "Specifically, you win copies of the scratchcards below the winning card equal to the number of matches. So, if card 10 were to have 5 matching numbers, you would win one copy each of cards 11, 12, 13, 14, and 15.\n",
    "\n",
    "Copies of scratchcards are scored like normal scratchcards and have the same card number as the card they copied. So, if you win a copy of card 10 and it has 5 matching numbers, it would then win a copy of the same cards that the original card 10 won: cards 11, 12, 13, 14, and 15. This process repeats until none of the copies cause you to win any more cards. (Cards will never make you copy a card past the end of the table.)\n",
    "\n",
    "Process all of the original and copied scratchcards until no more scratchcards are won. Including the original set of scratchcards, how many total scratchcards do you end up with?"
   ]
  },
  {
   "cell_type": "code",
   "execution_count": 6,
   "id": "66d60d52-d266-4300-a35b-676c9bf913b8",
   "metadata": {},
   "outputs": [],
   "source": [
    "# initialise with one copy of every card (the originals)\n",
    "copies = {c: 1 for c in cards}"
   ]
  },
  {
   "cell_type": "code",
   "execution_count": 7,
   "id": "5fb394ad-3d3f-4322-9636-bb94ed762f69",
   "metadata": {},
   "outputs": [],
   "source": [
    "for i in range(len(cards)):\n",
    "    for j in range(matches[i]):\n",
    "        copies[i+j+2] += copies[i+1]"
   ]
  },
  {
   "cell_type": "code",
   "execution_count": 8,
   "id": "3f151e0b-0ee2-492d-b337-2ea03357d4c4",
   "metadata": {},
   "outputs": [],
   "source": [
    "part2 = sum(copies.values())"
   ]
  },
  {
   "cell_type": "code",
   "execution_count": 9,
   "id": "9436ccbc-5fb0-405f-b57d-e76935f8b83d",
   "metadata": {},
   "outputs": [
    {
     "data": {
      "text/plain": [
       "14624680"
      ]
     },
     "execution_count": 9,
     "metadata": {},
     "output_type": "execute_result"
    }
   ],
   "source": [
    "part2"
   ]
  },
  {
   "cell_type": "markdown",
   "id": "eb706c34-f12b-4999-b8e2-fac5cd3137f7",
   "metadata": {},
   "source": [
    "### Export answers"
   ]
  },
  {
   "cell_type": "code",
   "execution_count": null,
   "id": "c56ff5d7-d19e-4d62-bd94-c8465add75d3",
   "metadata": {},
   "outputs": [],
   "source": [
    "with open('../../answers/day04.txt', 'w') as f:\n",
    "    f.write(str(part1))\n",
    "    f.write(\"\\n\")\n",
    "    f.write(str(part2))"
   ]
  }
 ],
 "metadata": {
  "kernelspec": {
   "display_name": "Python 3 (ipykernel)",
   "language": "python",
   "name": "python3"
  },
  "language_info": {
   "codemirror_mode": {
    "name": "ipython",
    "version": 3
   },
   "file_extension": ".py",
   "mimetype": "text/x-python",
   "name": "python",
   "nbconvert_exporter": "python",
   "pygments_lexer": "ipython3",
   "version": "3.11.5"
  }
 },
 "nbformat": 4,
 "nbformat_minor": 5
}
