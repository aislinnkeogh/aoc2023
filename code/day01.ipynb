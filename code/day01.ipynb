{
 "cells": [
  {
   "cell_type": "code",
   "execution_count": null,
   "id": "bb33a712",
   "metadata": {},
   "outputs": [],
   "source": [
    "import re"
   ]
  },
  {
   "cell_type": "markdown",
   "id": "06aad390",
   "metadata": {},
   "source": [
    "### Part one\n",
    "\n",
    "The newly-improved calibration document consists of lines of text; each line originally contained a specific calibration value that the Elves now need to recover. On each line, the calibration value can be found by combining the first digit and the last digit (in that order) to form a single two-digit number.\n",
    "\n",
    "Consider your entire calibration document. What is the sum of all of the calibration values?"
   ]
  },
  {
   "cell_type": "code",
   "execution_count": null,
   "id": "9fe7a8c0",
   "metadata": {},
   "outputs": [],
   "source": [
    "with open('../input/day1.txt') as f:\n",
    "    lines = [line.rstrip(\"\\n\") for line in f.readlines()]"
   ]
  },
  {
   "cell_type": "code",
   "execution_count": null,
   "id": "eb98e341",
   "metadata": {},
   "outputs": [],
   "source": [
    "lines"
   ]
  },
  {
   "cell_type": "code",
   "execution_count": null,
   "id": "201852cb",
   "metadata": {},
   "outputs": [],
   "source": [
    "part1 = 0\n",
    "for line in lines:\n",
    "    digits = []\n",
    "    for char in line:\n",
    "        if char.isnumeric():\n",
    "            digits.append(char)\n",
    "    first_and_last = [digits[0], digits[-1]]\n",
    "    part1 += int(\"\".join(first_and_last))"
   ]
  },
  {
   "cell_type": "code",
   "execution_count": null,
   "id": "3126e6a6",
   "metadata": {},
   "outputs": [],
   "source": [
    "part1"
   ]
  },
  {
   "cell_type": "markdown",
   "id": "85dfdcd9",
   "metadata": {},
   "source": [
    "### Part two \n",
    "\n",
    "Your calculation isn't quite right. It looks like some of the digits are actually spelled out with letters: one, two, three, four, five, six, seven, eight, and nine also count as valid \"digits\".\n",
    "\n",
    "Equipped with this new information, you now need to find the real first and last digit on each line."
   ]
  },
  {
   "cell_type": "code",
   "execution_count": null,
   "id": "0f70dca4",
   "metadata": {},
   "outputs": [],
   "source": [
    "regex_lines = []\n",
    "for line in lines:\n",
    "    line = re.sub(\"one\", \"o1e\", line)\n",
    "    line = re.sub(\"two\", \"t2o\", line)\n",
    "    line = re.sub(\"three\", \"t3e\", line)\n",
    "    line = re.sub(\"four\", \"4\", line)\n",
    "    line = re.sub(\"five\", \"5e\", line)\n",
    "    line = re.sub(\"six\", \"6\", line)\n",
    "    line = re.sub(\"seven\", \"7n\", line)\n",
    "    line = re.sub(\"eight\", \"e8t\", line)\n",
    "    line = re.sub(\"nine\", \"n9e\", line)\n",
    "    regex_lines.append(line)"
   ]
  },
  {
   "cell_type": "code",
   "execution_count": null,
   "id": "c48b6bf7",
   "metadata": {},
   "outputs": [],
   "source": [
    "regex_lines"
   ]
  },
  {
   "cell_type": "code",
   "execution_count": null,
   "id": "72fc22b8",
   "metadata": {},
   "outputs": [],
   "source": [
    "part2 = 0\n",
    "for line in regex_lines:\n",
    "    digits = []\n",
    "    for char in line:\n",
    "        if char.isnumeric():\n",
    "            digits.append(char)\n",
    "    first_and_last = [digits[0], digits[-1]]\n",
    "    part2 += int(\"\".join(first_and_last))"
   ]
  },
  {
   "cell_type": "code",
   "execution_count": null,
   "id": "f1b008cd",
   "metadata": {},
   "outputs": [],
   "source": [
    "part2"
   ]
  },
  {
   "cell_type": "code",
   "execution_count": null,
   "id": "433b86ec",
   "metadata": {},
   "outputs": [],
   "source": []
  },
  {
   "cell_type": "code",
   "execution_count": null,
   "id": "e1ddefa9",
   "metadata": {},
   "outputs": [],
   "source": []
  }
 ],
 "metadata": {
  "kernelspec": {
   "display_name": "Python 3 (ipykernel)",
   "language": "python",
   "name": "python3"
  },
  "language_info": {
   "codemirror_mode": {
    "name": "ipython",
    "version": 3
   },
   "file_extension": ".py",
   "mimetype": "text/x-python",
   "name": "python",
   "nbconvert_exporter": "python",
   "pygments_lexer": "ipython3",
   "version": "3.9.13"
  }
 },
 "nbformat": 4,
 "nbformat_minor": 5
}
