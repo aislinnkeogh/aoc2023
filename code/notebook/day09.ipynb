{
 "cells": [
  {
   "cell_type": "code",
   "execution_count": 36,
   "id": "21633cef-cf6f-495f-b722-deb6081d0b8a",
   "metadata": {},
   "outputs": [],
   "source": [
    "sample = False\n",
    "if sample:\n",
    "    fn = '../../input/samples/day09.txt'\n",
    "else:\n",
    "    fn = '../../input/day09.txt'\n",
    "with open(fn) as f:\n",
    "    histories = [[int(val) for val in line.split()] for line in (l.rstrip(\"\\n\") for l in f.readlines())]"
   ]
  },
  {
   "cell_type": "markdown",
   "id": "315755cc-c321-4b51-908f-f2d2798c438e",
   "metadata": {},
   "source": [
    "### Part one"
   ]
  },
  {
   "cell_type": "code",
   "execution_count": 37,
   "id": "c0c46451-9546-404c-a7d4-0c23db57ef74",
   "metadata": {},
   "outputs": [],
   "source": [
    "part1 = 0\n",
    "for h in histories:\n",
    "    diffs = [h]\n",
    "    keep_going = True\n",
    "    while keep_going:\n",
    "        diffs.append([diffs[-1][i+1]-diffs[-1][i] for i in range(len(diffs[-1])-1)])\n",
    "        if set(diffs[-1]) == {0}:\n",
    "            for j in range(len(diffs)-1, 0, -1): # go backwards through diffs\n",
    "                diffs[j-1].append(diffs[j-1][-1] + diffs[j][-1])\n",
    "            part1 += diffs[0][-1]\n",
    "            keep_going = False"
   ]
  },
  {
   "cell_type": "code",
   "execution_count": 38,
   "id": "c1ed82ce-87aa-4a47-946b-5cd9b4116ec1",
   "metadata": {},
   "outputs": [
    {
     "data": {
      "text/plain": [
       "1798691765"
      ]
     },
     "execution_count": 38,
     "metadata": {},
     "output_type": "execute_result"
    }
   ],
   "source": [
    "part1"
   ]
  },
  {
   "cell_type": "markdown",
   "id": "bdb9b07d-b249-4b7c-9b00-52d375535262",
   "metadata": {},
   "source": [
    "### Part two"
   ]
  },
  {
   "cell_type": "code",
   "execution_count": 39,
   "id": "5091250b-fd3a-4573-a174-7ad7124261ba",
   "metadata": {},
   "outputs": [],
   "source": [
    "part2 = 0\n",
    "for h in histories:\n",
    "    diffs = [h]\n",
    "    keep_going = True\n",
    "    while keep_going:\n",
    "        diffs.append([diffs[-1][i+1]-diffs[-1][i] for i in range(len(diffs[-1])-1)])\n",
    "        if set(diffs[-1]) == {0}:\n",
    "            for j in range(len(diffs)-1, 0, -1): # go backwards through diffs\n",
    "                diffs[j-1].insert(0, diffs[j-1][0] - diffs[j][0])\n",
    "            part2 += diffs[0][0]\n",
    "            keep_going = False"
   ]
  },
  {
   "cell_type": "code",
   "execution_count": 40,
   "id": "c618bd56-e201-411f-bdb7-f7992d01efe6",
   "metadata": {},
   "outputs": [
    {
     "data": {
      "text/plain": [
       "1104"
      ]
     },
     "execution_count": 40,
     "metadata": {},
     "output_type": "execute_result"
    }
   ],
   "source": [
    "part2"
   ]
  },
  {
   "cell_type": "markdown",
   "id": "f4a5bc4b-f155-473f-92a9-9994389b2911",
   "metadata": {},
   "source": [
    "### Export answers"
   ]
  },
  {
   "cell_type": "code",
   "execution_count": 35,
   "id": "4548a435-407f-4ad3-9f9e-a7b07a295267",
   "metadata": {},
   "outputs": [],
   "source": [
    "with open('../../answers/day09.txt', 'w') as f:\n",
    "    f.write(str(part1))\n",
    "    f.write(\"\\n\")\n",
    "    f.write(str(part2))"
   ]
  }
 ],
 "metadata": {
  "kernelspec": {
   "display_name": "Python 3 (ipykernel)",
   "language": "python",
   "name": "python3"
  },
  "language_info": {
   "codemirror_mode": {
    "name": "ipython",
    "version": 3
   },
   "file_extension": ".py",
   "mimetype": "text/x-python",
   "name": "python",
   "nbconvert_exporter": "python",
   "pygments_lexer": "ipython3",
   "version": "3.11.5"
  }
 },
 "nbformat": 4,
 "nbformat_minor": 5
}
