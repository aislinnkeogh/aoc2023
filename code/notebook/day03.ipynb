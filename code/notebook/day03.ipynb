{
 "cells": [
  {
   "cell_type": "code",
   "execution_count": 1,
   "id": "2545f2c1-4e2b-4969-9301-057c7a14859f",
   "metadata": {},
   "outputs": [],
   "source": [
    "import re\n",
    "import numpy as np"
   ]
  },
  {
   "cell_type": "code",
   "execution_count": 2,
   "id": "87b573ca-eb20-45bc-a782-368a60bf64a4",
   "metadata": {},
   "outputs": [],
   "source": [
    "with open('../../input/day03.txt') as f:\n",
    "    lines = [line.rstrip(\"\\n\") for line in f.readlines()]"
   ]
  },
  {
   "cell_type": "markdown",
   "id": "ddb98843-9908-4dc2-bb08-b2fcad9c83f1",
   "metadata": {},
   "source": [
    "### Part one"
   ]
  },
  {
   "cell_type": "code",
   "execution_count": 3,
   "id": "d6e6c7b1-7a4f-431e-94a0-6f239007c0b6",
   "metadata": {},
   "outputs": [],
   "source": [
    "def check_for_symbols(grid, x, y):\n",
    "    \n",
    "    positions_to_check = [\n",
    "        (x, y-1),\n",
    "        (x, y+1),\n",
    "        (x-1, y-1),\n",
    "        (x-1, y),\n",
    "        (x-1, y+1),\n",
    "        (x+1, y-1),\n",
    "        (x+1, y),\n",
    "        (x+1, y+1)\n",
    "    ]\n",
    "\n",
    "    for i, j in positions_to_check:\n",
    "        if i < 0 or j < 0:\n",
    "            pass\n",
    "        else:\n",
    "            try:\n",
    "                if re.match(r\"[^\\d.]\", grid[i][j]):\n",
    "                    return True\n",
    "            except:\n",
    "                pass\n",
    "        \n",
    "    return False"
   ]
  },
  {
   "cell_type": "code",
   "execution_count": 4,
   "id": "6e397228-1e11-4ee5-90ca-cd8ccdb15c27",
   "metadata": {},
   "outputs": [],
   "source": [
    "positions_adjacent_to_symbols = []\n",
    "for i in range(len(lines)):\n",
    "    for j in range(len(lines[i])):\n",
    "        if check_for_symbols(lines, i, j):\n",
    "            positions_adjacent_to_symbols.append((i, j))"
   ]
  },
  {
   "cell_type": "code",
   "execution_count": 5,
   "id": "8e5d43e3-a875-4bf9-a6e2-bbfb9438cbf7",
   "metadata": {},
   "outputs": [],
   "source": [
    "numbers = []\n",
    "spans = []\n",
    "for i in range(len(lines)):\n",
    "    for match in re.finditer(r\"(\\d+)\", lines[i]):\n",
    "        numbers.append(match.group())\n",
    "        spans.append([(i, j) for j in range(match.span()[0], match.span()[1])])"
   ]
  },
  {
   "cell_type": "code",
   "execution_count": 6,
   "id": "bfa634b8-a0ff-4add-aac6-62cd889fb7e1",
   "metadata": {},
   "outputs": [],
   "source": [
    "part1 = 0\n",
    "for i in range(len(numbers)):\n",
    "    if [e for e in spans[i] if e in positions_adjacent_to_symbols]:\n",
    "        part1 += int(numbers[i])"
   ]
  },
  {
   "cell_type": "code",
   "execution_count": 7,
   "id": "b0d236ac-d59d-41ce-ab61-2b37275c4095",
   "metadata": {},
   "outputs": [
    {
     "data": {
      "text/plain": [
       "531932"
      ]
     },
     "execution_count": 7,
     "metadata": {},
     "output_type": "execute_result"
    }
   ],
   "source": [
    "part1"
   ]
  },
  {
   "cell_type": "markdown",
   "id": "cb4c23e6-8e7d-4a27-947f-8b4832760376",
   "metadata": {},
   "source": [
    "### Part two"
   ]
  },
  {
   "cell_type": "code",
   "execution_count": 8,
   "id": "7b85b8d2-06fe-41da-806e-7887e47b676a",
   "metadata": {},
   "outputs": [],
   "source": [
    "def check_for_gears(grid, x, y):\n",
    "    \n",
    "    positions_to_check = [\n",
    "        (x, y-1),\n",
    "        (x, y+1),\n",
    "        (x-1, y-1),\n",
    "        (x-1, y),\n",
    "        (x-1, y+1),\n",
    "        (x+1, y-1),\n",
    "        (x+1, y),\n",
    "        (x+1, y+1)\n",
    "    ]\n",
    "\n",
    "    for i, j in positions_to_check:\n",
    "        if i < 0 or j < 0:\n",
    "            pass\n",
    "        else:\n",
    "            try:\n",
    "                if grid[i][j] == \"*\":\n",
    "                    return (i, j)\n",
    "            except:\n",
    "                pass\n",
    "        \n",
    "    return False"
   ]
  },
  {
   "cell_type": "code",
   "execution_count": null,
   "id": "046c4c03-67f1-4a58-a483-d699745d4e47",
   "metadata": {},
   "outputs": [],
   "source": [
    "potential_gears = {}\n",
    "for i in range(len(spans)):\n",
    "    for pos in spans[i]:\n",
    "        gear_position = check_for_gears(lines, pos[0], pos[1])\n",
    "        if gear_position:\n",
    "            try:\n",
    "                potential_gears[gear_position].append(int(numbers[i]))\n",
    "            except:\n",
    "                potential_gears[gear_position] = [int(numbers[i])]\n",
    "            finally:\n",
    "                break"
   ]
  },
  {
   "cell_type": "code",
   "execution_count": 10,
   "id": "3a0edcc5-31e8-4b01-9ae9-ec1122ee061c",
   "metadata": {},
   "outputs": [],
   "source": [
    "part2 = 0\n",
    "for gear in potential_gears:\n",
    "    if len(potential_gears[gear]) == 2:\n",
    "        part2 += np.prod(potential_gears[gear])"
   ]
  },
  {
   "cell_type": "code",
   "execution_count": 11,
   "id": "1e560cd6-7ce6-4ed9-9bd7-ce21d357b07c",
   "metadata": {},
   "outputs": [
    {
     "data": {
      "text/plain": [
       "73646890"
      ]
     },
     "execution_count": 11,
     "metadata": {},
     "output_type": "execute_result"
    }
   ],
   "source": [
    "part2"
   ]
  },
  {
   "cell_type": "markdown",
   "id": "5f8eab67-ec98-4938-9144-9315a4556ed2",
   "metadata": {},
   "source": [
    "### Export answers"
   ]
  },
  {
   "cell_type": "code",
   "execution_count": null,
   "id": "22b692d8-7d36-4804-9d16-cb0849158b07",
   "metadata": {},
   "outputs": [],
   "source": [
    "with open('../../answers/day03.txt', 'w') as f:\n",
    "    f.write(str(part1))\n",
    "    f.write(\"\\n\")\n",
    "    f.write(str(part2))"
   ]
  }
 ],
 "metadata": {
  "kernelspec": {
   "display_name": "Python 3 (ipykernel)",
   "language": "python",
   "name": "python3"
  },
  "language_info": {
   "codemirror_mode": {
    "name": "ipython",
    "version": 3
   },
   "file_extension": ".py",
   "mimetype": "text/x-python",
   "name": "python",
   "nbconvert_exporter": "python",
   "pygments_lexer": "ipython3",
   "version": "3.11.5"
  }
 },
 "nbformat": 4,
 "nbformat_minor": 5
}
