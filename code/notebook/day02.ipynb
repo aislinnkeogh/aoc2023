{
 "cells": [
  {
   "cell_type": "code",
   "execution_count": 136,
   "id": "b5fe2928",
   "metadata": {},
   "outputs": [],
   "source": [
    "import numpy as np"
   ]
  },
  {
   "cell_type": "code",
   "execution_count": 137,
   "id": "91efb590",
   "metadata": {},
   "outputs": [],
   "source": [
    "with open('../../input/day02.txt') as f:\n",
    "    lines = [line.rstrip(\"\\n\") for line in f.readlines()]"
   ]
  },
  {
   "cell_type": "code",
   "execution_count": 138,
   "id": "0eb78f44",
   "metadata": {},
   "outputs": [],
   "source": [
    "games = [line.split(\": \")[1].split(\"; \") for line in lines]"
   ]
  },
  {
   "cell_type": "code",
   "execution_count": 139,
   "id": "0ce9fedc",
   "metadata": {},
   "outputs": [],
   "source": [
    "parsed_games = [[rnd.split(\", \") for rnd in game] for game in games]"
   ]
  },
  {
   "cell_type": "markdown",
   "id": "5e10102d",
   "metadata": {},
   "source": [
    "### Part one"
   ]
  },
  {
   "cell_type": "code",
   "execution_count": 140,
   "id": "c2f803f0",
   "metadata": {},
   "outputs": [],
   "source": [
    "all_games = {}\n",
    "for i in range(len(parsed_games)):\n",
    "    all_games[i+1] = []\n",
    "    for j in range(len(parsed_games[i])):\n",
    "        all_games[i+1].append({\"red\": 0, \"green\": 0, \"blue\": 0})\n",
    "        for clr in parsed_games[i][j]:\n",
    "            n, x = clr.split(\" \")\n",
    "            all_games[i+1][j][x] += int(n)"
   ]
  },
  {
   "cell_type": "code",
   "execution_count": 141,
   "id": "3c7a7e27",
   "metadata": {},
   "outputs": [],
   "source": [
    "highest_per_game = {}\n",
    "for i in range(len(all_games)):\n",
    "    highest_per_game[i+1] = {\"red\": 0, \"green\": 0, \"blue\": 0}\n",
    "    for rnd in all_games[i+1]:\n",
    "        for clr in [\"red\", \"green\", \"blue\"]:\n",
    "            if rnd[clr] > highest_per_game[i+1][clr]:\n",
    "                highest_per_game[i+1][clr] = rnd[clr]"
   ]
  },
  {
   "cell_type": "code",
   "execution_count": 142,
   "id": "bc4329b0",
   "metadata": {},
   "outputs": [],
   "source": [
    "part1 = 0\n",
    "for i in range(len(highest_per_game)):\n",
    "    if highest_per_game[i+1][\"red\"] <= 12 and highest_per_game[i+1][\"green\"] <= 13 and highest_per_game[i+1][\"blue\"] <= 14:\n",
    "        part1 += i+1"
   ]
  },
  {
   "cell_type": "code",
   "execution_count": 143,
   "id": "f44f61ad",
   "metadata": {},
   "outputs": [
    {
     "data": {
      "text/plain": [
       "2771"
      ]
     },
     "execution_count": 143,
     "metadata": {},
     "output_type": "execute_result"
    }
   ],
   "source": [
    "part1"
   ]
  },
  {
   "cell_type": "markdown",
   "id": "67304937",
   "metadata": {},
   "source": [
    "### Part two "
   ]
  },
  {
   "cell_type": "code",
   "execution_count": 144,
   "id": "d6017b5d",
   "metadata": {},
   "outputs": [],
   "source": [
    "part2 = np.sum([np.prod(list(highest_per_game[i+1].values())) for i in range(len(highest_per_game))])"
   ]
  },
  {
   "cell_type": "code",
   "execution_count": 145,
   "id": "9f352ac4",
   "metadata": {},
   "outputs": [
    {
     "data": {
      "text/plain": [
       "70924"
      ]
     },
     "execution_count": 145,
     "metadata": {},
     "output_type": "execute_result"
    }
   ],
   "source": [
    "part2"
   ]
  },
  {
   "cell_type": "markdown",
   "id": "093d731b-0174-45cb-8603-238d92cbe26f",
   "metadata": {},
   "source": [
    "### Export answers"
   ]
  },
  {
   "cell_type": "code",
   "execution_count": null,
   "id": "c37dd56f-2b11-49af-876a-5dcfb95aa1c2",
   "metadata": {},
   "outputs": [],
   "source": [
    "with open('../../answers/day02.txt', 'w') as f:\n",
    "    f.write(str(part1))\n",
    "    f.write(\"\\n\")\n",
    "    f.write(str(part2))"
   ]
  }
 ],
 "metadata": {
  "kernelspec": {
   "display_name": "Python 3 (ipykernel)",
   "language": "python",
   "name": "python3"
  },
  "language_info": {
   "codemirror_mode": {
    "name": "ipython",
    "version": 3
   },
   "file_extension": ".py",
   "mimetype": "text/x-python",
   "name": "python",
   "nbconvert_exporter": "python",
   "pygments_lexer": "ipython3",
   "version": "3.11.5"
  }
 },
 "nbformat": 4,
 "nbformat_minor": 5
}
