{
 "cells": [
  {
   "cell_type": "code",
   "execution_count": 53,
   "id": "52920afe-3832-4fac-a96e-388f4f4c70da",
   "metadata": {},
   "outputs": [],
   "source": [
    "import numpy as np"
   ]
  },
  {
   "cell_type": "code",
   "execution_count": 54,
   "id": "22fd0118-dc8c-4fa4-a8c9-56f2c2fa5ca4",
   "metadata": {},
   "outputs": [],
   "source": [
    "sample = False\n",
    "if sample:\n",
    "    fn = '../../input/samples/day08.txt'\n",
    "else:\n",
    "    fn = '../../input/day08.txt'\n",
    "with open(fn) as f:\n",
    "    lines = [line for line in (l.rstrip(\"\\n\") for l in f.readlines())]"
   ]
  },
  {
   "cell_type": "code",
   "execution_count": 55,
   "id": "fb712322-fca3-4aa7-822c-239bb96fd256",
   "metadata": {},
   "outputs": [],
   "source": [
    "directions = [{\"L\": 0, \"R\": 1}[letter] for letter in lines[0]]"
   ]
  },
  {
   "cell_type": "code",
   "execution_count": 56,
   "id": "9138720a-cbbc-4863-84f1-84bdec7d2496",
   "metadata": {},
   "outputs": [],
   "source": [
    "nodes = lines[2:]"
   ]
  },
  {
   "cell_type": "code",
   "execution_count": 57,
   "id": "5bddbdd5-1488-4771-9999-d4b94764f1b0",
   "metadata": {},
   "outputs": [],
   "source": [
    "node_lookup = {}\n",
    "for node in nodes:\n",
    "    start, options = node.split(\" = \")\n",
    "    node_lookup[start] = tuple(options.strip(\"()\").split(\", \"))"
   ]
  },
  {
   "cell_type": "markdown",
   "id": "e086bd9c-5e58-4df4-bb79-e1a04e6b1fde",
   "metadata": {},
   "source": [
    "### Part one"
   ]
  },
  {
   "cell_type": "code",
   "execution_count": 58,
   "id": "a2df86bf-3aec-414f-b79f-d74953b615d2",
   "metadata": {},
   "outputs": [],
   "source": [
    "keep_going = True\n",
    "next_key = \"AAA\"\n",
    "part1 = 0\n",
    "while keep_going:\n",
    "    for i in directions:\n",
    "        next_key = node_lookup[next_key][i]\n",
    "        part1 += 1\n",
    "        if next_key == \"ZZZ\":\n",
    "            keep_going = False"
   ]
  },
  {
   "cell_type": "code",
   "execution_count": 59,
   "id": "7c83a092-89a3-40e0-ba61-de3c31a495ee",
   "metadata": {},
   "outputs": [
    {
     "data": {
      "text/plain": [
       "19783"
      ]
     },
     "execution_count": 59,
     "metadata": {},
     "output_type": "execute_result"
    }
   ],
   "source": [
    "part1"
   ]
  },
  {
   "cell_type": "markdown",
   "id": "f001ad63-1543-4327-b626-a67c3db2fbd4",
   "metadata": {},
   "source": [
    "### Part two\n",
    "\n",
    "If you were a ghost, you'd probably just start at every node that ends with A and follow all of the paths at the same time until they all simultaneously end up at nodes that end with Z.\n",
    "\n",
    "As you follow each left/right instruction, use that instruction to simultaneously navigate away from both nodes you're currently on. Repeat this process until all of the nodes you're currently on end with Z. (If only some of the nodes you're on end with Z, they act like any other node and you continue as normal.)\n",
    "\n",
    "Simultaneously start on every node that ends with A. How many steps does it take before you're only on nodes that end with Z?"
   ]
  },
  {
   "cell_type": "code",
   "execution_count": 60,
   "id": "faccfc1d-73bc-4596-a00e-6a12f84cecf7",
   "metadata": {},
   "outputs": [],
   "source": [
    "starting_keys = [key for key in node_lookup.keys() if key.endswith(\"A\")]\n",
    "steps_per_starting_key = []\n",
    "\n",
    "for key in starting_keys:\n",
    "    keep_going = True\n",
    "    next_key = key\n",
    "    n_steps = 0\n",
    "    while keep_going:\n",
    "        for i in directions:\n",
    "            next_key = node_lookup[next_key][i]\n",
    "            n_steps += 1\n",
    "            if next_key.endswith(\"Z\"):\n",
    "                steps_per_starting_key.append(n_steps)\n",
    "                keep_going = False"
   ]
  },
  {
   "cell_type": "code",
   "execution_count": 61,
   "id": "5b30e47b-6a48-4642-8116-0200ccaadc95",
   "metadata": {},
   "outputs": [],
   "source": [
    "part2 = np.lcm.reduce(steps_per_starting_key)"
   ]
  },
  {
   "cell_type": "code",
   "execution_count": 62,
   "id": "415c609f-31b0-4f8b-b19d-158c643981f2",
   "metadata": {},
   "outputs": [
    {
     "data": {
      "text/plain": [
       "9177460370549"
      ]
     },
     "execution_count": 62,
     "metadata": {},
     "output_type": "execute_result"
    }
   ],
   "source": [
    "part2"
   ]
  },
  {
   "cell_type": "markdown",
   "id": "9601cdd6-6c90-4f02-ac25-e0e3b27fc9cd",
   "metadata": {},
   "source": [
    "### Export answers"
   ]
  },
  {
   "cell_type": "code",
   "execution_count": 63,
   "id": "9687eebb-48f9-4ff2-895b-f3ee9be5f246",
   "metadata": {},
   "outputs": [],
   "source": [
    "with open('../../answers/day08.txt', 'w') as f:\n",
    "    f.write(str(part1))\n",
    "    f.write(\"\\n\")\n",
    "    f.write(str(part2))"
   ]
  }
 ],
 "metadata": {
  "kernelspec": {
   "display_name": "Python 3 (ipykernel)",
   "language": "python",
   "name": "python3"
  },
  "language_info": {
   "codemirror_mode": {
    "name": "ipython",
    "version": 3
   },
   "file_extension": ".py",
   "mimetype": "text/x-python",
   "name": "python",
   "nbconvert_exporter": "python",
   "pygments_lexer": "ipython3",
   "version": "3.11.5"
  }
 },
 "nbformat": 4,
 "nbformat_minor": 5
}
