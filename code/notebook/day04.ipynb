{
 "cells": [
  {
   "cell_type": "code",
   "execution_count": 2,
   "id": "7ef23c8c-6a3d-4e77-948c-f53de1a27157",
   "metadata": {},
   "outputs": [],
   "source": [
    "with open('../../input/day04.txt') as f:\n",
    "    lines = [line.rstrip(\"\\n\") for line in f.readlines()]"
   ]
  },
  {
   "cell_type": "code",
   "execution_count": 97,
   "id": "4ff804c3-e86c-456f-93a1-5b939ca7fea4",
   "metadata": {
    "scrolled": true
   },
   "outputs": [],
   "source": [
    "cards = {i+1: {\"winning\": lines[i].split(\": \")[1].split(\" | \")[0].split(), \"have\": lines[i].split(\": \")[1].split(\" | \")[1].split()} for i in range(len(lines))}"
   ]
  },
  {
   "cell_type": "markdown",
   "id": "7e6336bc-8174-4228-8a69-749ea18a2c02",
   "metadata": {},
   "source": [
    "### Part one\n",
    "\n",
    "Each card has two lists of numbers separated by a vertical bar (|): a list of winning numbers and then a list of numbers you have.\n",
    "\n",
    "You have to figure out which of the numbers you have appear in the list of winning numbers. The first match makes the card worth one point and each match after the first doubles the point value of that card.\n",
    "\n",
    "Take a seat in the large pile of colorful cards. How many points are they worth in total?"
   ]
  },
  {
   "cell_type": "code",
   "execution_count": 31,
   "id": "ba1d6503-4f1c-44e3-9be7-5a8879772796",
   "metadata": {},
   "outputs": [],
   "source": [
    "matches = [len([e for e in cards[i+1][\"winning\"] if e in cards[i+1][\"have\"]]) for i in range(len(cards))]"
   ]
  },
  {
   "cell_type": "code",
   "execution_count": 32,
   "id": "0a20a362-2406-44a2-8ad6-e7c06035aab8",
   "metadata": {},
   "outputs": [],
   "source": [
    "part1 = sum([2**(m-1) for m in matches if m>0])"
   ]
  },
  {
   "cell_type": "code",
   "execution_count": 33,
   "id": "981ef868-2de5-449f-a8b4-86891a58757c",
   "metadata": {},
   "outputs": [
    {
     "data": {
      "text/plain": [
       "32609"
      ]
     },
     "execution_count": 33,
     "metadata": {},
     "output_type": "execute_result"
    }
   ],
   "source": [
    "part1"
   ]
  },
  {
   "cell_type": "markdown",
   "id": "f71cb969-2e8b-44f4-9ff2-40c1170346a7",
   "metadata": {},
   "source": [
    "### Part two\n",
    "\n",
    "There's no such thing as \"points\". Instead, scratchcards only cause you to win more scratchcards equal to the number of winning numbers you have.\n",
    "\n",
    "Specifically, you win copies of the scratchcards below the winning card equal to the number of matches. So, if card 10 were to have 5 matching numbers, you would win one copy each of cards 11, 12, 13, 14, and 15.\n",
    "\n",
    "Copies of scratchcards are scored like normal scratchcards and have the same card number as the card they copied. So, if you win a copy of card 10 and it has 5 matching numbers, it would then win a copy of the same cards that the original card 10 won: cards 11, 12, 13, 14, and 15. This process repeats until none of the copies cause you to win any more cards. (Cards will never make you copy a card past the end of the table.)\n",
    "\n",
    "Process all of the original and copied scratchcards until no more scratchcards are won. Including the original set of scratchcards, how many total scratchcards do you end up with?"
   ]
  },
  {
   "cell_type": "code",
   "execution_count": 116,
   "id": "b3e45120-ebe2-47a3-b0fe-1a065ead6a04",
   "metadata": {},
   "outputs": [],
   "source": [
    "# initialise with one copy of every card (the originals)\n",
    "copies = {c: 1 for c in cards}"
   ]
  },
  {
   "cell_type": "code",
   "execution_count": 117,
   "id": "67ecfd35-3f91-4ec5-9d01-bdcc65356a4a",
   "metadata": {},
   "outputs": [],
   "source": [
    "for i in range(len(cards)):\n",
    "    for j in range(matches[i]):\n",
    "        copies[i+j+2] += copies[i+1]"
   ]
  },
  {
   "cell_type": "code",
   "execution_count": 118,
   "id": "e680e3f5-40fc-4393-b31d-5d5d9456b66b",
   "metadata": {},
   "outputs": [],
   "source": [
    "part2 = sum(copies.values())"
   ]
  },
  {
   "cell_type": "code",
   "execution_count": 119,
   "id": "9998c729-2eec-4b68-b8ae-07decb2ee0ee",
   "metadata": {},
   "outputs": [
    {
     "data": {
      "text/plain": [
       "14624680"
      ]
     },
     "execution_count": 119,
     "metadata": {},
     "output_type": "execute_result"
    }
   ],
   "source": [
    "part2"
   ]
  },
  {
   "cell_type": "code",
   "execution_count": null,
   "id": "fe90fd40-06d9-48e1-b8b3-18ea5e9fe247",
   "metadata": {},
   "outputs": [],
   "source": []
  },
  {
   "cell_type": "code",
   "execution_count": null,
   "id": "dd8fe3f2-3505-42f0-adc7-a4b3ccb85408",
   "metadata": {},
   "outputs": [],
   "source": []
  },
  {
   "cell_type": "code",
   "execution_count": null,
   "id": "780c0c81-b9d4-40cb-afe3-680cdcd3ddd6",
   "metadata": {},
   "outputs": [],
   "source": []
  }
 ],
 "metadata": {
  "kernelspec": {
   "display_name": "Python 3 (ipykernel)",
   "language": "python",
   "name": "python3"
  },
  "language_info": {
   "codemirror_mode": {
    "name": "ipython",
    "version": 3
   },
   "file_extension": ".py",
   "mimetype": "text/x-python",
   "name": "python",
   "nbconvert_exporter": "python",
   "pygments_lexer": "ipython3",
   "version": "3.11.5"
  }
 },
 "nbformat": 4,
 "nbformat_minor": 5
}
